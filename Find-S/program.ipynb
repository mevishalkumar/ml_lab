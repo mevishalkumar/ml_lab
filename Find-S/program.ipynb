{
 "nbformat": 4,
 "nbformat_minor": 2,
 "metadata": {
  "language_info": {
   "name": "python",
   "codemirror_mode": {
    "name": "ipython",
    "version": 3
   }
  },
  "orig_nbformat": 2,
  "file_extension": ".py",
  "mimetype": "text/x-python",
  "name": "python",
  "npconvert_exporter": "python",
  "pygments_lexer": "ipython3",
  "version": 3
 },
 "cells": [
  {
   "cell_type": "code",
   "execution_count": null,
   "metadata": {},
   "outputs": [],
   "source": [
    "import csv\n",
    "num_attributes=6\n",
    "a=[]\n",
    "print(\"\\n The Given training Data set \\n\")\n",
    "with open('enjoysport.csv','r') as csvfile:\n",
    "    reader = csv.reader(csvfile)\n",
    "    for row in reader:\n",
    "        a.append (row)\n",
    "        print(row)\n",
    "\n",
    "print(\"\\n The initial value of hyphothesis: \")\n",
    "hyphothesis = ['0'] * num_attributes\n",
    "print(hyphothesis)\n",
    "\n",
    "for j in range(0,num_attributes):\n",
    "    hyphothesis[j] = a[0][j];\n",
    "\n",
    "print(\"\\n Find S: Finding a Maximally Specific Hypothesis \\n\")\n",
    "for i in range(0,len(a)):\n",
    "    if a[i][num_attributes]=='Yes':\n",
    "        for j in range(0,num_attributes):\n",
    "            if a[i][j]!=hyphothesis[j]:\n",
    "                hyphothesis[j] = '?'\n",
    "            else:\n",
    "                hyphothesis[j] = a[i][j]\n",
    "    print(\" For Training instance No:{0} the hypothesisis \".format(i),hyphothesis)\n",
    "print(\"\\n The maximally Specific Hypothesis for a given training Examples :\\n\")\n",
    "print(hyphothesis)    "
   ]
  }
 ]
}
